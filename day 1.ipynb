{
 "cells": [
  {
   "cell_type": "code",
   "execution_count": null,
   "id": "e6bbc722-5567-4a4c-85e3-ea86ef52d298",
   "metadata": {},
   "outputs": [],
   "source": []
  }
 ],
 "metadata": {
  "kernelspec": {
   "display_name": "",
   "name": ""
  },
  "language_info": {
   "name": ""
  }
 },
 "nbformat": 4,
 "nbformat_minor": 5
}
