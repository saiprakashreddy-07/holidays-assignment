{
 "cells": [
  {
   "cell_type": "code",
   "execution_count": null,
   "id": "cf984f56-0e5d-449f-a5c2-10554b92e73f",
   "metadata": {},
   "outputs": [],
   "source": []
  }
 ],
 "metadata": {
  "kernelspec": {
   "display_name": "",
   "name": ""
  },
  "language_info": {
   "name": ""
  }
 },
 "nbformat": 4,
 "nbformat_minor": 5
}
