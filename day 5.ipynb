{
 "cells": [
  {
   "cell_type": "code",
   "execution_count": null,
   "id": "be404337-99a6-4b3c-b16d-0b7300e0846f",
   "metadata": {},
   "outputs": [],
   "source": []
  }
 ],
 "metadata": {
  "kernelspec": {
   "display_name": "",
   "name": ""
  },
  "language_info": {
   "name": ""
  }
 },
 "nbformat": 4,
 "nbformat_minor": 5
}
