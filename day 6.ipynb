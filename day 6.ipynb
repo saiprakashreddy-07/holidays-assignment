{
 "cells": [
  {
   "cell_type": "code",
   "execution_count": null,
   "id": "5021ca01-5374-43df-95f5-8f7a291abaea",
   "metadata": {},
   "outputs": [],
   "source": []
  }
 ],
 "metadata": {
  "kernelspec": {
   "display_name": "",
   "name": ""
  },
  "language_info": {
   "name": ""
  }
 },
 "nbformat": 4,
 "nbformat_minor": 5
}
